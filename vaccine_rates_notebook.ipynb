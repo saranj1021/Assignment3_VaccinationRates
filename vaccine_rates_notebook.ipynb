{
 "cells": [
  {
   "cell_type": "markdown",
   "id": "7daaf2f6-8f97-4470-a38b-b01627e55ce3",
   "metadata": {},
   "source": [
    "# Assignment 3"
   ]
  },
  {
   "cell_type": "markdown",
   "id": "78ec0984-4444-4f87-9098-f9f105660c11",
   "metadata": {
    "editable": true,
    "slideshow": {
     "slide_type": ""
    },
    "tags": [
     "hide_input"
    ]
   },
   "source": [
    "# Visualization Library\n",
    "### Seaborn, ipywidgets, and IPython\n",
    "\n",
    "#### Reasoning and Methodology\n",
    "For the visuals, I chose `seaborn`. I found that this package has the most documentation and tutorials online. Since the graphics that I believe will best display meaningful information are relatively simple (such as a barplot), `seaborn` has more than enough customization functions.  I also found `seaborn` the most intuitive since it is built from `matplotlib`, which is what all of our coursework has used so far. \n",
    "\n",
    "For the interactivity, I chose `ipywidgets`. Using these widget builders with `seaborn` visuals is straightforward. Since I am only focusing on a few variables, it was reasonable to make a few widgets that apply to multiple visuals at once. The views on the dashboard are supposed to be compared with the same filter applied; by only making a few interactive widgets with `ipywidgets`, I minimize the risk of a reader misinterpreting results by comparing different data. \n",
    "\n",
    "In order to use `seaborn` and `ipywidgets` in tandem, I created a series of functions. The first few functions create the actual visuals. The next function, `create_dashboard()`, takes the same arguments as the visual creation functions and uses `display()` from `IPython` to effectively \"paste\" each visual. Utilizing functions is valuable because users can apply the dashboard-building methods to other datasets.\n",
    "\n",
    "The last function, `create_interacivity()`, constructs the widgets and attaches the updated inputs to the arguments in `create_dashboard()`. \n",
    "\n",
    "#### Limitations\n",
    "The modules I chose are not as customizable as others. I had a lot of trouble fitting the figures neatly into the space without using `sublots` from `matplotlib`, so I opted to use subplots anyway to complete the assignment (uh oh). This also limited the number of visuals I could put into the dashboard without effectively defining and rendering a second dashboard in the form of `create_dashboard2()` and `create_interactivity2()`. \n",
    "\n",
    "In addition, the dashboard itself does not look as \"clean\" as an end-stage dashboard (such as [this made with Shiny for Python](https://gallery.shinyapps.io/template-dashboard-tips1/)). \n",
    "\n",
    "### Considerations\n",
    "Some adjustments I could make are the y-axis scales, annotations within each bar, and plot layout.\n",
    "\n",
    "Adjusting the y-axis scales to zoom in or out of the graph can change the viers perspective and understanding of the differences between each bar. Zooming in could make the differences more extreme, but we run the risk of exaggerating how different the measures actually are. Zooming out could make the differences less obvious. \n",
    "\n",
    "The annotations with each bar are not very clear what they represent. I considered putting the sample size as a percentage of the total as an annotation on the vaccine rate barplot in order to incorporate the two measures, but I found it to be too confusing and opted to put the plots side-by-side. \n",
    "\n",
    "Another aspect I was adjusting was the layout of the plots. The arrangement should allow the user to make the most meaningful comparisons from the different visuals. The purpose of these visuals is to allow the viewer to compare the vaccine rates for each dimension to the sample sizes, and also to compare those rates to the overall vaccine rates. \n",
    "\n",
    "#### Other Approaches\n",
    "I have experience using R Shiny, so I considered using Shiny for Python for this deliverable. However, it would require more research into creating visuals in Shiny for Python before I could use the more familiar `ui` and `server` methods. \n",
    "\n",
    "The `panel` package would have helped with the difficulties in placing the visuals in a nice arrangement. "
   ]
  },
  {
   "cell_type": "markdown",
   "id": "8e80a716-034f-4bef-a4ec-7d8f3a09a02e",
   "metadata": {
    "editable": true,
    "slideshow": {
     "slide_type": ""
    },
    "tags": [
     "hide_input"
    ]
   },
   "source": [
    "# Vaccination Coverage Among Youth in Pennyslvania\n",
    "#### An Investigation into Vaccination Rates Across Dimensions: Race/Ethnicity, Urbanicity, and Insurance Coverage\n",
    "\n",
    "As a data scientist in the heathcare space in Pennsylvania, I regularly view health data and investigate social determinants of health (SDOH). These refer to non-medial attributes that influence an individual's health and well-being, such as location, salary, and education. In thise case, I will look specifically at race and ethnicity, urbanicity, and insurance coverage. Another attribute that contributes to health and is frequently associated with SDOH is race and ethnicity [meta-analysis on race and SDOH](https://bmcpublichealth.biomedcentral.com/articles/10.1186/s12889-023-15274-x).\n",
    "\n",
    "Vaccines have been a controversial topic since the first vaccine at the end of the 18th century. I want to investigate relationships between vaccine coverage and SDOH (including race and ethnicity) in my home state of Pennsylvania. \n",
    "\n",
    "#### About the Data\n",
    "The data is sourced from [Centers for Disease Control and Prevention](https://data.cdc.gov/). It is a combination of [Vaccination Coverage among Adolescents (13-17 Years)](https://data.cdc.gov/Teen-Vaccinations/Vaccination-Coverage-among-Adolescents-13-17-Years/ee48-w5t6/about_data) and [Vaccination Coverage among Young Children (0-35 Months)](https://data.cdc.gov/Child-Vaccinations/Vaccination-Coverage-among-Young-Children-0-35-Mon/fhky-rtsk/about_data). The datasets contain information about estimated vaccine rates within selected sociodemographic characteristics; this dashboard focuses specifically on Race and Ethnicity, Urbanicity, and Insurance Coverage. \n",
    "\n",
    "#### Cleaning the Data\n",
    "The two datasets have similar structure. They are both on the vaccine type, geography, dimension-level. The first step in cleaning the data is renaming columns so they match across both datasets. Then, the columns of interest are selected, and the data is joined using `pd.concat()`. Lastly, the data is filtered to only include `Geography = 'Pennsylvania'` and `Dimension Type = 'Race and Ethnicity' 'Urbanicity' or 'Insurance Coverage'`\n",
    "\n",
    "The columns in the complete dataset are `Vaccine`, `Dimension Type`, `Dimension`, `Estimate (%)`, `95% CI (%)`, and `Sample Size`. \n",
    "\n",
    "Once creating the visuals, I filtered on `Dimension Type` and `Vaccine` within the functions to select the subsets of interest. "
   ]
  },
  {
   "cell_type": "markdown",
   "id": "dd9be193-63af-4c91-a4e1-cd7ae3327709",
   "metadata": {
    "editable": true,
    "slideshow": {
     "slide_type": ""
    },
    "tags": [
     "hide_input"
    ]
   },
   "source": [
    "# Demonstration"
   ]
  },
  {
   "cell_type": "markdown",
   "id": "6fff6100-1783-402c-9489-2a4d09ff631d",
   "metadata": {
    "editable": true,
    "slideshow": {
     "slide_type": ""
    },
    "tags": [
     "hide_input"
    ]
   },
   "source": [
    "### Step 1: Data Setup"
   ]
  },
  {
   "cell_type": "markdown",
   "id": "da5c3433-f2b4-4fde-8cf4-e8a760c943ef",
   "metadata": {
    "editable": true,
    "slideshow": {
     "slide_type": ""
    },
    "tags": [
     "hide_input"
    ]
   },
   "source": [
    "1. Load all of the libraries. "
   ]
  },
  {
   "cell_type": "code",
   "execution_count": 20,
   "id": "844e4225-5d0f-47bd-ba63-db93dff4f987",
   "metadata": {
    "editable": true,
    "slideshow": {
     "slide_type": ""
    },
    "tags": [
     "hide_input"
    ]
   },
   "outputs": [],
   "source": [
    "import numpy as np\n",
    "import pandas as pd\n",
    "import seaborn as sns\n",
    "import matplotlib.pyplot as plt\n",
    "from ipywidgets import interact, interactive, Dropdown, IntRangeSlider, SelectMultiple, ToggleButtons\n",
    "from IPython.display import display, clear_output"
   ]
  },
  {
   "cell_type": "markdown",
   "id": "081a1b34-71b5-4c1f-9bb7-25ea7e5883a7",
   "metadata": {
    "editable": true,
    "slideshow": {
     "slide_type": ""
    },
    "tags": [
     "hide_input"
    ]
   },
   "source": [
    "2. Read in the data to pandas dataframes with `read_csv`."
   ]
  },
  {
   "cell_type": "code",
   "execution_count": 2,
   "id": "c2512254-378f-4f5a-a037-0411106ee3e3",
   "metadata": {
    "editable": true,
    "slideshow": {
     "slide_type": ""
    },
    "tags": [
     "hide_input"
    ]
   },
   "outputs": [],
   "source": [
    "# read in data frames\n",
    "teen = pd.read_csv('TeenVaccines.csv')\n",
    "babies = pd.read_csv('BabiesVaccines.csv')"
   ]
  },
  {
   "cell_type": "markdown",
   "id": "1009f464-7812-449e-994c-8403fd96efd7",
   "metadata": {
    "editable": true,
    "slideshow": {
     "slide_type": ""
    },
    "tags": [
     "hide_input"
    ]
   },
   "source": [
    "3. Print the columns for each dataset to understand the fields that are available and match"
   ]
  },
  {
   "cell_type": "code",
   "execution_count": 3,
   "id": "b3f25401-9c9c-4132-b62a-4b77bf521596",
   "metadata": {
    "editable": true,
    "slideshow": {
     "slide_type": ""
    },
    "tags": [
     "hide_input"
    ]
   },
   "outputs": [
    {
     "name": "stdout",
     "output_type": "stream",
     "text": [
      "Index(['Vaccine', 'Dose', 'Geography Type', 'Geography',\n",
      "       'Birth Year/Birth Cohort', 'Dimension Type', 'Dimension',\n",
      "       'Estimate (%)', '95% CI (%)', 'Sample Size'],\n",
      "      dtype='object')\n",
      "Index(['Vaccine/Sample', 'Dose', 'Geography Type', 'Geography', 'Survey Year',\n",
      "       'Dimension Type', 'Dimension', 'Estimate (%)', '95% CI (%)',\n",
      "       'Sample Size'],\n",
      "      dtype='object')\n"
     ]
    }
   ],
   "source": [
    "# look at columns\n",
    "print(babies.columns)\n",
    "print(teen.columns)"
   ]
  },
  {
   "cell_type": "markdown",
   "id": "14308a07-b708-47d3-9fbd-23a300510030",
   "metadata": {
    "editable": true,
    "slideshow": {
     "slide_type": ""
    },
    "tags": [
     "hide_input"
    ]
   },
   "source": [
    "4. Adjust the datasets and prepare them for a row bind"
   ]
  },
  {
   "cell_type": "code",
   "execution_count": 4,
   "id": "ed2f58fe-7ea6-4a51-9dd2-18b8b3bacfb2",
   "metadata": {
    "editable": true,
    "slideshow": {
     "slide_type": ""
    },
    "tags": [
     "hide_input"
    ]
   },
   "outputs": [],
   "source": [
    "# add age category\n",
    "babies['Age Category'] = 'Babies'\n",
    "teen['Age Category'] = 'Teen'\n",
    "# order and enumerate age dimension\n",
    "\n",
    "# babies = babies[~['Category'].isin(categories_to_exclude)]\n",
    "# babies_age_order = ['0-3 Days','3 Months','5 Months','7 Months','8 Months','13 Months',\n",
    "#                    '19 Months','24 Months','35 Months']\n",
    "\n",
    "\n",
    "# rename columns for join\n",
    "teen.rename(columns={'Vaccine/Sample': 'Vaccine'}, inplace=True)"
   ]
  },
  {
   "cell_type": "code",
   "execution_count": 5,
   "id": "1c260d34-e7aa-4a44-afa2-cd50f223caa2",
   "metadata": {
    "editable": true,
    "slideshow": {
     "slide_type": ""
    },
    "tags": [
     "hide_input"
    ]
   },
   "outputs": [],
   "source": [
    "# select columns of interest\n",
    "df_cols = ['Age Category','Geography','Vaccine','Dimension Type','Dimension',\n",
    "           'Estimate (%)','95% CI (%)','Sample Size','Geography Type']\n",
    "babies = babies[df_cols]\n",
    "teen = teen[df_cols]"
   ]
  },
  {
   "cell_type": "markdown",
   "id": "8a9f2fcc-b8d8-4950-82f8-4257364a0584",
   "metadata": {
    "editable": true,
    "slideshow": {
     "slide_type": ""
    },
    "tags": [
     "hide_input"
    ]
   },
   "source": [
    "5. Put the two datasets together and apply filters\n",
    "In this case, we are filtering to only Pennsylvania and viewing three of the dimensions. "
   ]
  },
  {
   "cell_type": "code",
   "execution_count": 6,
   "id": "d8b617e2-2156-4e79-ac8c-162f8461f863",
   "metadata": {
    "editable": true,
    "slideshow": {
     "slide_type": ""
    },
    "tags": [
     "hide_input"
    ]
   },
   "outputs": [],
   "source": [
    "# join data frames\n",
    "vaccines_join = pd.concat([babies, teen])\n",
    "\n",
    "# select dimensions of interest\n",
    "dimensions = ['Insurance Coverage', 'Race and Ethnicity', 'Urbanicity','Overall']\n",
    "vaccines = vaccines_join[vaccines_join['Geography'] == 'Pennsylvania']\n",
    "vaccines = vaccines[vaccines['Dimension Type'].isin(dimensions)]"
   ]
  },
  {
   "cell_type": "markdown",
   "id": "bc24e14b-0eb6-4903-9b49-9e79e1eaf1c7",
   "metadata": {
    "editable": true,
    "slideshow": {
     "slide_type": ""
    },
    "tags": [
     "hide_input"
    ]
   },
   "source": [
    "6. Display the top of the final dataframe"
   ]
  },
  {
   "cell_type": "code",
   "execution_count": 7,
   "id": "079d9b21-7603-4a85-8289-4cb05e5dea21",
   "metadata": {
    "editable": true,
    "slideshow": {
     "slide_type": ""
    },
    "tags": [
     "hide_input"
    ]
   },
   "outputs": [
    {
     "data": {
      "text/html": [
       "<div>\n",
       "<style scoped>\n",
       "    .dataframe tbody tr th:only-of-type {\n",
       "        vertical-align: middle;\n",
       "    }\n",
       "\n",
       "    .dataframe tbody tr th {\n",
       "        vertical-align: top;\n",
       "    }\n",
       "\n",
       "    .dataframe thead th {\n",
       "        text-align: right;\n",
       "    }\n",
       "</style>\n",
       "<table border=\"1\" class=\"dataframe\">\n",
       "  <thead>\n",
       "    <tr style=\"text-align: right;\">\n",
       "      <th></th>\n",
       "      <th>Age Category</th>\n",
       "      <th>Geography</th>\n",
       "      <th>Vaccine</th>\n",
       "      <th>Dimension Type</th>\n",
       "      <th>Dimension</th>\n",
       "      <th>Estimate (%)</th>\n",
       "      <th>95% CI (%)</th>\n",
       "      <th>Sample Size</th>\n",
       "      <th>Geography Type</th>\n",
       "    </tr>\n",
       "  </thead>\n",
       "  <tbody>\n",
       "    <tr>\n",
       "      <th>4558</th>\n",
       "      <td>Babies</td>\n",
       "      <td>Pennsylvania</td>\n",
       "      <td>PCV</td>\n",
       "      <td>Overall</td>\n",
       "      <td>Overall</td>\n",
       "      <td>93.0</td>\n",
       "      <td>91.0 to 95.1</td>\n",
       "      <td>1975.0</td>\n",
       "      <td>States/Local Areas</td>\n",
       "    </tr>\n",
       "    <tr>\n",
       "      <th>4560</th>\n",
       "      <td>Babies</td>\n",
       "      <td>Pennsylvania</td>\n",
       "      <td>PCV</td>\n",
       "      <td>Urbanicity</td>\n",
       "      <td>Living In a MSA Non-Principal City</td>\n",
       "      <td>94.5</td>\n",
       "      <td>91.8 to 97.2</td>\n",
       "      <td>945.0</td>\n",
       "      <td>States/Local Areas</td>\n",
       "    </tr>\n",
       "    <tr>\n",
       "      <th>4561</th>\n",
       "      <td>Babies</td>\n",
       "      <td>Pennsylvania</td>\n",
       "      <td>PCV</td>\n",
       "      <td>Urbanicity</td>\n",
       "      <td>Living In a Non-MSA</td>\n",
       "      <td>89.8</td>\n",
       "      <td>80.0 to 99.6</td>\n",
       "      <td>48.0</td>\n",
       "      <td>States/Local Areas</td>\n",
       "    </tr>\n",
       "    <tr>\n",
       "      <th>4566</th>\n",
       "      <td>Babies</td>\n",
       "      <td>Pennsylvania</td>\n",
       "      <td>Hep B</td>\n",
       "      <td>Race and Ethnicity</td>\n",
       "      <td>Hispanic</td>\n",
       "      <td>82.7</td>\n",
       "      <td>73.9 to 91.4</td>\n",
       "      <td>323.0</td>\n",
       "      <td>States/Local Areas</td>\n",
       "    </tr>\n",
       "    <tr>\n",
       "      <th>4567</th>\n",
       "      <td>Babies</td>\n",
       "      <td>Pennsylvania</td>\n",
       "      <td>Hep B</td>\n",
       "      <td>Race and Ethnicity</td>\n",
       "      <td>Other or Multiple Races, Non-Hispanic</td>\n",
       "      <td>84.6</td>\n",
       "      <td>77.9 to 91.3</td>\n",
       "      <td>288.0</td>\n",
       "      <td>States/Local Areas</td>\n",
       "    </tr>\n",
       "  </tbody>\n",
       "</table>\n",
       "</div>"
      ],
      "text/plain": [
       "     Age Category     Geography Vaccine      Dimension Type  \\\n",
       "4558       Babies  Pennsylvania     PCV             Overall   \n",
       "4560       Babies  Pennsylvania     PCV          Urbanicity   \n",
       "4561       Babies  Pennsylvania     PCV          Urbanicity   \n",
       "4566       Babies  Pennsylvania   Hep B  Race and Ethnicity   \n",
       "4567       Babies  Pennsylvania   Hep B  Race and Ethnicity   \n",
       "\n",
       "                                  Dimension  Estimate (%)    95% CI (%)  \\\n",
       "4558                                Overall          93.0  91.0 to 95.1   \n",
       "4560     Living In a MSA Non-Principal City          94.5  91.8 to 97.2   \n",
       "4561                    Living In a Non-MSA          89.8  80.0 to 99.6   \n",
       "4566                               Hispanic          82.7  73.9 to 91.4   \n",
       "4567  Other or Multiple Races, Non-Hispanic          84.6  77.9 to 91.3   \n",
       "\n",
       "      Sample Size      Geography Type  \n",
       "4558       1975.0  States/Local Areas  \n",
       "4560        945.0  States/Local Areas  \n",
       "4561         48.0  States/Local Areas  \n",
       "4566        323.0  States/Local Areas  \n",
       "4567        288.0  States/Local Areas  "
      ]
     },
     "execution_count": 7,
     "metadata": {},
     "output_type": "execute_result"
    }
   ],
   "source": [
    "vaccines.head()"
   ]
  },
  {
   "cell_type": "markdown",
   "id": "57fe1403-e91b-4668-b39c-647c197ff81b",
   "metadata": {
    "editable": true,
    "slideshow": {
     "slide_type": ""
    },
    "tags": [
     "hide_input"
    ]
   },
   "source": [
    "### Step 2: Create Views"
   ]
  },
  {
   "cell_type": "code",
   "execution_count": 8,
   "id": "dbda510b-da8a-404d-af66-b79085d75ff8",
   "metadata": {
    "editable": true,
    "slideshow": {
     "slide_type": ""
    },
    "tags": [
     "hide_input"
    ]
   },
   "outputs": [],
   "source": [
    "# example filtered data frame\n",
    "ex_df = vaccines.loc[(vaccines['Dimension Type'] == \"Race and Ethnicity\") &\n",
    "                                    (vaccines['Vaccine'] == \"PCV\")]"
   ]
  },
  {
   "cell_type": "markdown",
   "id": "bee4e984-9e62-4893-a28d-f8f47d7a5fb0",
   "metadata": {
    "editable": true,
    "slideshow": {
     "slide_type": ""
    },
    "tags": [
     "hide_input"
    ]
   },
   "source": [
    "1. The summary table view uses `pivot_table()` to extend the `Dimension` column into a view that has one row per dimension category. For example, if the user selected \"Race and Ethnicity\" dimension and \"PCV\" vaccine, there will be a row for each race and ethnicity and the corresponding vaccine coverage estimate and sample size. "
   ]
  },
  {
   "cell_type": "code",
   "execution_count": 9,
   "id": "f478589a-bb20-4f5a-b3b6-62a93f854d69",
   "metadata": {
    "editable": true,
    "slideshow": {
     "slide_type": ""
    },
    "tags": [
     "hide_input"
    ]
   },
   "outputs": [
    {
     "data": {
      "text/html": [
       "<div>\n",
       "<style scoped>\n",
       "    .dataframe tbody tr th:only-of-type {\n",
       "        vertical-align: middle;\n",
       "    }\n",
       "\n",
       "    .dataframe tbody tr th {\n",
       "        vertical-align: top;\n",
       "    }\n",
       "\n",
       "    .dataframe thead th {\n",
       "        text-align: right;\n",
       "    }\n",
       "</style>\n",
       "<table border=\"1\" class=\"dataframe\">\n",
       "  <thead>\n",
       "    <tr style=\"text-align: right;\">\n",
       "      <th></th>\n",
       "      <th></th>\n",
       "      <th>Estimate (%)</th>\n",
       "      <th>Sample Size</th>\n",
       "    </tr>\n",
       "    <tr>\n",
       "      <th>Vaccine</th>\n",
       "      <th>Dimension</th>\n",
       "      <th></th>\n",
       "      <th></th>\n",
       "    </tr>\n",
       "  </thead>\n",
       "  <tbody>\n",
       "    <tr>\n",
       "      <th rowspan=\"4\" valign=\"top\">PCV</th>\n",
       "      <th>Black, Non-Hispanic</th>\n",
       "      <td>81.8</td>\n",
       "      <td>320.0</td>\n",
       "    </tr>\n",
       "    <tr>\n",
       "      <th>Hispanic</th>\n",
       "      <td>91.4</td>\n",
       "      <td>323.0</td>\n",
       "    </tr>\n",
       "    <tr>\n",
       "      <th>Other or Multiple Races, Non-Hispanic</th>\n",
       "      <td>90.2</td>\n",
       "      <td>288.0</td>\n",
       "    </tr>\n",
       "    <tr>\n",
       "      <th>White, Non-Hispanic</th>\n",
       "      <td>90.2</td>\n",
       "      <td>1044.0</td>\n",
       "    </tr>\n",
       "  </tbody>\n",
       "</table>\n",
       "</div>"
      ],
      "text/plain": [
       "                                               Estimate (%)  Sample Size\n",
       "Vaccine Dimension                                                       \n",
       "PCV     Black, Non-Hispanic                            81.8        320.0\n",
       "        Hispanic                                       91.4        323.0\n",
       "        Other or Multiple Races, Non-Hispanic          90.2        288.0\n",
       "        White, Non-Hispanic                            90.2       1044.0"
      ]
     },
     "execution_count": 9,
     "metadata": {},
     "output_type": "execute_result"
    }
   ],
   "source": [
    "# create summary table for dimensions\n",
    "def create_tab(df, index_cols=['Vaccine', 'Dimension'], pivot_col='Dimension Type',\n",
    "                  est='Estimate (%)', dimension='Race and Ethnicity', vaccine='PCV',\n",
    "              ss='Sample Size'):\n",
    "    summary_tab_est = df.pivot_table(index=index_cols,\n",
    "                                          values=est)\n",
    "    summary_tab_ss = df.pivot_table(index=index_cols,\n",
    "                                          values=ss)\n",
    "    summary_tab = pd.merge(summary_tab_est, summary_tab_ss, on=index_cols, how='inner')\n",
    "\n",
    "    return summary_tab\n",
    "\n",
    "create_tab(ex_df)"
   ]
  },
  {
   "cell_type": "markdown",
   "id": "5f8267b1-06f3-499a-9041-fff14745d891",
   "metadata": {
    "editable": true,
    "slideshow": {
     "slide_type": ""
    },
    "tags": [
     "hide_input"
    ]
   },
   "source": [
    "2. The first barplot view shows the vaccine coverage estimate for each dimension category for the selected dimension and vaccine. Each category is a different color, and the point value is annotated in the middle of each bar. "
   ]
  },
  {
   "cell_type": "code",
   "execution_count": 10,
   "id": "c52fc33a-43bd-40d2-9323-e4a4d6dd07f1",
   "metadata": {
    "editable": true,
    "slideshow": {
     "slide_type": ""
    },
    "tags": [
     "hide_input"
    ]
   },
   "outputs": [
    {
     "data": {
      "text/plain": [
       "<Axes: title={'center': ' Rates'}, ylabel='Estimated Percentage Vaccinated'>"
      ]
     },
     "execution_count": 10,
     "metadata": {},
     "output_type": "execute_result"
    },
    {
     "data": {
      "image/png": "[encoded data removed]",
      "text/plain": [
       "<Figure size 640x480 with 1 Axes>"
      ]
     },
     "metadata": {},
     "output_type": "display_data"
    }
   ],
   "source": [
    "def create_barplot(df, dimension='Race and Ethnicity', est='Estimate (%)',\n",
    "                   dimension_cat='Dimension', vaccine='PCV',\n",
    "                  ax=None):\n",
    "    dimension_cats = list(df[dimension_cat].unique())\n",
    "    dimension_cats.sort()\n",
    "    n_cats = len(dimension_cats)\n",
    "    title =  \" Rates\"\n",
    "\n",
    "    min_est = min(df[est])\n",
    "\n",
    "    \n",
    "    bar = sns.barplot(data=df, x=dimension_cat, y=est, hue=dimension_cat,\n",
    "                     legend=False, hue_order=dimension_cats, order=dimension_cats,\n",
    "                     ax=ax)\n",
    "    sns.color_palette(\"hls\", n_cats)\n",
    "    bar.set_title(title, fontsize=16, color='black')\n",
    "    bar.set_xlabel('')\n",
    "    bar.set_ylabel('Estimated Percentage Vaccinated')\n",
    "    bar.set_xticklabels(rotation=90, labels='')\n",
    "    bar.set_ylim(min_est-10, 100)\n",
    "    for container in bar.containers:\n",
    "        bar.bar_label(container, label_type='center')\n",
    "\n",
    "    return bar\n",
    "\n",
    "create_barplot(ex_df)    "
   ]
  },
  {
   "cell_type": "markdown",
   "id": "0996e695-28f2-411d-852d-3d8dfff46295",
   "metadata": {
    "editable": true,
    "slideshow": {
     "slide_type": ""
    },
    "tags": [
     "hide_input"
    ]
   },
   "source": [
    "3. The second barplot view shows the sample size for each dimension category for the selected dimension and vaccine. Each category is a different color, and the point value is annotated in the middle of each bar. "
   ]
  },
  {
   "cell_type": "code",
   "execution_count": 11,
   "id": "e91ea116-ed6c-4152-adca-a952ee7d6748",
   "metadata": {
    "editable": true,
    "slideshow": {
     "slide_type": ""
    },
    "tags": [
     "hide_input"
    ]
   },
   "outputs": [
    {
     "data": {
      "text/plain": [
       "<Axes: title={'center': ' Sample Sizes'}, ylabel='Sample Size'>"
      ]
     },
     "execution_count": 11,
     "metadata": {},
     "output_type": "execute_result"
    },
    {
     "data": {
      "image/png": "[encoded data removed]",
      "text/plain": [
       "<Figure size 640x480 with 1 Axes>"
      ]
     },
     "metadata": {},
     "output_type": "display_data"
    }
   ],
   "source": [
    "def create_samplesize(df, dimension='Race and Ethnicity', ss='Sample Size',\n",
    "                     dimension_cat='Dimension', vaccine='PCV',\n",
    "                     ax=None):\n",
    "    dimension_cats = list(df[dimension_cat].unique())\n",
    "    dimension_cats.sort()\n",
    "    n_cats = len(dimension_cats)\n",
    "    title =  \" Sample Sizes\"\n",
    "\n",
    "    min_ss = min(df[ss])\n",
    "    max_ss = max(df[ss])\n",
    "\n",
    "\n",
    "    bar = sns.barplot(data=df, x=dimension_cat, y=ss, hue=dimension_cat,\n",
    "                     legend='full', hue_order=dimension_cats, order=dimension_cats,\n",
    "                     ax=ax)\n",
    "    sns.color_palette(\"hls\", n_cats)\n",
    "    sns.move_legend(bar, title=dimension, loc=\"upper left\", bbox_to_anchor=(1, 1))\n",
    "    bar.set_title(title, fontsize=16, color='black')\n",
    "    bar.set_xlabel('')\n",
    "    bar.set_ylabel('Sample Size')\n",
    "    bar.set_xticklabels(rotation=90, labels='')\n",
    "    bar.set_ylim(min_ss-100, max_ss+100)\n",
    "    for container in bar.containers:\n",
    "        bar.bar_label(container, label_type='center')\n",
    "\n",
    "    return bar\n",
    "\n",
    "create_samplesize(ex_df)"
   ]
  },
  {
   "cell_type": "code",
   "execution_count": 40,
   "id": "c1dcf6d4-8bc1-4b21-a63e-9c4889fdf0d4",
   "metadata": {
    "editable": true,
    "slideshow": {
     "slide_type": ""
    },
    "tags": [
     "hide_input"
    ]
   },
   "outputs": [
    {
     "data": {
      "text/plain": [
       "<Axes: title={'center': 'Vaccination Rates Overall'}, xlabel='Vaccine', ylabel='Estimated Percentage Vaccinated'>"
      ]
     },
     "execution_count": 40,
     "metadata": {},
     "output_type": "execute_result"
    },
    {
     "data": {
      "image/png": "[encoded data removed]",
      "text/plain": [
       "<Figure size 640x480 with 1 Axes>"
      ]
     },
     "metadata": {},
     "output_type": "display_data"
    }
   ],
   "source": [
    "def create_overall(df, x='Vaccine', est='Estimate (%)', ax=None):\n",
    "    dimension_cats = list(df[x].unique())\n",
    "    dimension_cats.sort()\n",
    "    n_cats = len(dimension_cats)\n",
    "\n",
    "    min_est = min(df[est])\n",
    "\n",
    "    bar = sns.barplot(data=df, x=x, y=est, hue=x,\n",
    "                     legend='full', hue_order=dimension_cats,\n",
    "                     order=dimension_cats, ax=ax)\n",
    "\n",
    "    sns.color_palette(\"hls\", n_cats)\n",
    "    sns.move_legend(bar, title='Vaccine', loc=\"upper left\", bbox_to_anchor=(1, 1))\n",
    "    bar.set_title('Vaccination Rates Overall', fontsize=16, color='black')\n",
    "    bar.set_xlabel('Vaccine')\n",
    "    bar.set_ylabel('Estimated Percentage Vaccinated')\n",
    "    bar.set_xticklabels(rotation=90, labels='')\n",
    "    bar.set_ylim(min_est-10, 100)\n",
    "\n",
    "    return bar\n",
    "\n",
    "create_overall(vaccines)"
   ]
  },
  {
   "cell_type": "markdown",
   "id": "d2c519a9-3545-4868-877d-aa5a0d4518e1",
   "metadata": {
    "editable": true,
    "slideshow": {
     "slide_type": ""
    },
    "tags": [
     "hide_input"
    ]
   },
   "source": [
    "4. The next function pastes the views from the previous functions into a dashboard.\n",
    "\n",
    "*Note:* The `display` function is used to show the summary table because it is not a plot object. "
   ]
  },
  {
   "cell_type": "code",
   "execution_count": 13,
   "id": "775b1bc3-0d7a-45ba-ad60-014b23e33f86",
   "metadata": {
    "editable": true,
    "slideshow": {
     "slide_type": ""
    },
    "tags": [
     "hide_input"
    ]
   },
   "outputs": [],
   "source": [
    "def create_dashboard(df, dimension='Race and Ethnicity', vaccine='PCV',\n",
    "                     index_cols=['Vaccine', 'Dimension'], pivot_col='Dimension Type',\n",
    "                     est = 'Estimate (%)', dimension_cat='Dimension', ss = 'Sample Size'):\n",
    "\n",
    "    tab = create_tab(df, dimension=dimension, vaccine=vaccine)\n",
    "    display(tab)\n",
    "    \n",
    "    fig, axes = plt.subplots(1, 2, figsize=(18, 6), sharex=False)\n",
    "    create_barplot(df, dimension=dimension, vaccine=vaccine, ax=axes[0])\n",
    "    create_samplesize(df, dimension=dimension, vaccine=vaccine, ax=axes[1])\n",
    "    \n",
    "\n",
    "    plt.tight_layout()\n",
    "    plt.show()\n",
    "\n",
    "    create_overall(df=vaccines)\n",
    "    plt.show()\n",
    "    \n",
    "\n",
    "# create_dashboard(ex_df)"
   ]
  },
  {
   "cell_type": "markdown",
   "id": "4791b3a3-f1f3-4797-a217-312f2c60a80b",
   "metadata": {
    "editable": true,
    "slideshow": {
     "slide_type": ""
    },
    "tags": [
     "hide_input"
    ]
   },
   "source": [
    "5. The last function builds and implements the widgets for interactivity. The widgets to select `vaccine` and `dimension` update the filters applied to the dataframe that is passed into the `create_dashboard` function. "
   ]
  },
  {
   "cell_type": "code",
   "execution_count": 38,
   "id": "bccf02bc-0511-4d56-8ac8-ad72ecd08913",
   "metadata": {
    "editable": true,
    "slideshow": {
     "slide_type": ""
    },
    "tags": [
     "hide_input"
    ]
   },
   "outputs": [],
   "source": [
    "def create_interactivity():\n",
    "    # list the different dimensions we can select \n",
    "    dimension_list = list(vaccines['Dimension Type'].unique())\n",
    "    dimension_list.remove('Overall')\n",
    "    vaccine_list = list(vaccines['Vaccine'].unique())\n",
    "\n",
    "    \n",
    "    dimension_select = ToggleButtons(\n",
    "        options=dimension_list,\n",
    "        value='Race and Ethnicity',\n",
    "        description='Select Dimension:',\n",
    "        button_style='info'\n",
    "    )\n",
    "\n",
    "    vaccine_select = SelectMultiple(\n",
    "        options=vaccine_list,\n",
    "        value=['PCV'],\n",
    "        description='Select vaccines (ctrl+click):',\n",
    "        disabled=False,\n",
    "        rows=11,\n",
    "        style={'description_width': 'initial'}\n",
    "        \n",
    "    )\n",
    "\n",
    "\n",
    "    def update(dimension, vaccine):\n",
    "        filtered_df = vaccines.loc[(vaccines['Dimension Type'] == dimension) &\n",
    "                                    (vaccines['Vaccine'].isin(vaccine))]\n",
    "\n",
    "        clear_output(wait=True)\n",
    "\n",
    "        create_dashboard(filtered_df, dimension, vaccine)\n",
    "\n",
    "\n",
    "    interact(\n",
    "        update,\n",
    "        dimension=dimension_select,\n",
    "        vaccine=vaccine_select\n",
    "    )\n"
   ]
  },
  {
   "cell_type": "code",
   "execution_count": 41,
   "id": "665c0de2-1022-4a34-8053-36c6375d3a9b",
   "metadata": {
    "editable": true,
    "slideshow": {
     "slide_type": ""
    },
    "tags": []
   },
   "outputs": [
    {
     "data": {
      "application/vnd.jupyter.widget-view+json": {
       "model_id": "d8a096527f1f460e8fe5aad68fc6571c",
       "version_major": 2,
       "version_minor": 0
      },
      "text/plain": [
       "interactive(children=(ToggleButtons(button_style='info', description='Select Dimension:', index=1, options=('U…"
      ]
     },
     "metadata": {},
     "output_type": "display_data"
    }
   ],
   "source": [
    "create_interactivity()"
   ]
  },
  {
   "cell_type": "markdown",
   "id": "2b3ac57b-8bde-44cd-a024-61fca9b332e9",
   "metadata": {
    "editable": true,
    "slideshow": {
     "slide_type": ""
    },
    "tags": [
     "hide_input"
    ]
   },
   "source": [
    "# Visualization Technique\n",
    "### Barplots, summary table, and interactivity"
   ]
  },
  {
   "cell_type": "markdown",
   "id": "17006d52-6315-4dfe-b778-3210fad10cf5",
   "metadata": {
    "editable": true,
    "slideshow": {
     "slide_type": ""
    },
    "tags": []
   },
   "source": [
    "The nature of the cleaned and formatted data is multiple categorical variables and two quantitative variables. To visualize this, I chose to use barplots and a summary table with interactive widgets to select subgroups and one or more vaccines. \n",
    "\n",
    "1. Select the subgroup with toggle buttons - this can be either Urbanicity (the type of city), Race/Ethnicity, or Insurance coverage. The purpose of this filtering option is to create more meaningful groups of the vaccine statistics.\n",
    "2. Select one or more vaccines to view - a viewer can choose as many vaccines as desired, and the corresponding values are the average vaccination rates and total sample sizes.\n",
    "3. Compare the subgroup vaccination rates and sample size views - the side-by-side barplots allow the reader to gain a better understanding of the vaccine rate metric by accounting for sample size. For example, White/Non-Hispanic race has the largest sample size, and the HPV vaccination rates are the lowest of the four race subgroups. This is an interesting note when comparing to other vaccines.\n",
    "4. Compare the subgroup vaccination rates to the overall vaccination rates - the reader can gain insight into how different the vaccination rates in certain subgroups are from the general estimates. \n"
   ]
  }
 ],
 "metadata": {
  "kernelspec": {
   "display_name": "Python 3.12.10 (ipykernel)",
   "language": "python",
   "name": "python3"
  },
  "language_info": {
   "codemirror_mode": {
    "name": "ipython",
    "version": 3
   },
   "file_extension": ".py",
   "mimetype": "text/x-python",
   "name": "python",
   "nbconvert_exporter": "python",
   "pygments_lexer": "ipython3",
   "version": "3.12.10"
  }
 },
 "nbformat": 4,
 "nbformat_minor": 5
}
